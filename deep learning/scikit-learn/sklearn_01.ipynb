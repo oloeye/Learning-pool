{
 "cells": [
  {
   "cell_type": "markdown",
   "id": "03ab1a36",
   "metadata": {},
   "source": [
    "## scikit-learn介绍"
   ]
  },
  {
   "cell_type": "markdown",
   "id": "5812c040",
   "metadata": {},
   "source": [
    "官网：https://scikit-learn.org/\n",
    "![框图](https://static.mofanpy.com/results-small/sklearn/2_1_1.png)"
   ]
  },
  {
   "cell_type": "markdown",
   "id": "b4265825",
   "metadata": {},
   "source": [
    "由图中，可以看到算法有四类，分类，回归，聚类，降维。从 START 开始，可以根据自己需要，选择不同颜色的方法。不同数据集走不同路径。"
   ]
  },
  {
   "cell_type": "markdown",
   "id": "7cf17ed2",
   "metadata": {},
   "source": [
    "## classification\n",
    "回归是监督式学习，即每个数据对应一个 label, 下。面以Iris数据分类，花有四个属性，花瓣的长宽，茎的长宽。"
   ]
  },
  {
   "cell_type": "markdown",
   "id": "6317676e",
   "metadata": {
    "ExecuteTime": {
     "end_time": "2022-01-28T13:44:47.949850Z",
     "start_time": "2022-01-28T13:44:47.941412Z"
    }
   },
   "source": [
    "### 导入模块"
   ]
  },
  {
   "cell_type": "code",
   "execution_count": 4,
   "id": "c191c3f3",
   "metadata": {
    "ExecuteTime": {
     "end_time": "2022-01-28T13:48:04.323854Z",
     "start_time": "2022-01-28T13:48:01.001733Z"
    }
   },
   "outputs": [],
   "source": [
    "from sklearn import datasets\n",
    "from sklearn.model_selection import train_test_split\n",
    "from sklearn.neighbors import KNeighborsClassifier"
   ]
  },
  {
   "cell_type": "markdown",
   "id": "789152a7",
   "metadata": {
    "ExecuteTime": {
     "end_time": "2022-01-28T13:48:26.610457Z",
     "start_time": "2022-01-28T13:48:26.594680Z"
    }
   },
   "source": [
    "### 加载数据\n",
    "Iris数据加载，把属性存储X，类别标签存在y"
   ]
  },
  {
   "cell_type": "code",
   "execution_count": 8,
   "id": "697cf8a4",
   "metadata": {
    "ExecuteTime": {
     "end_time": "2022-01-28T13:52:15.014569Z",
     "start_time": "2022-01-28T13:52:14.983273Z"
    }
   },
   "outputs": [
    {
     "name": "stdout",
     "output_type": "stream",
     "text": [
      "iris_X: [[5.1 3.5 1.4 0.2]\n",
      " [4.9 3.  1.4 0.2]] iris_y: [0 0 0 0 0 0 0 0 0 0 0 0 0 0 0 0 0 0 0 0 0 0 0 0 0 0 0 0 0 0 0 0 0 0 0 0 0\n",
      " 0 0 0 0 0 0 0 0 0 0 0 0 0 1 1 1 1 1 1 1 1 1 1 1 1 1 1 1 1 1 1 1 1 1 1 1 1\n",
      " 1 1 1 1 1 1 1 1 1 1 1 1 1 1 1 1 1 1 1 1 1 1 1 1 1 1 2 2 2 2 2 2 2 2 2 2 2\n",
      " 2 2 2 2 2 2 2 2 2 2 2 2 2 2 2 2 2 2 2 2 2 2 2 2 2 2 2 2 2 2 2 2 2 2 2 2 2\n",
      " 2 2]\n"
     ]
    }
   ],
   "source": [
    "iris = datasets.load_iris()\n",
    "iris_X = iris.data\n",
    "iris_y = iris.target\n",
    "print(\"iris_X:\",iris_X[:2, :],\"iris_y:\", iris_y)"
   ]
  },
  {
   "cell_type": "markdown",
   "id": "955719c4",
   "metadata": {
    "ExecuteTime": {
     "end_time": "2022-01-28T13:54:23.546814Z",
     "start_time": "2022-01-28T13:54:23.530463Z"
    }
   },
   "source": [
    "把数据集分为训练集，测试集。其中test_size=0.3，测试集数为总数据30%"
   ]
  },
  {
   "cell_type": "code",
   "execution_count": 11,
   "id": "0f9003d5",
   "metadata": {
    "ExecuteTime": {
     "end_time": "2022-01-28T13:56:58.294696Z",
     "start_time": "2022-01-28T13:56:58.278257Z"
    }
   },
   "outputs": [
    {
     "name": "stdout",
     "output_type": "stream",
     "text": [
      "[1 2 2 1 2 1 1 1 1 2 0 2 0 2 0 1 2 0 1 1 0 1 2 1 2 0 2 0 1 1 2 1 2 2 0 2 0\n",
      " 1 1 0 0 2 1 1 0 0 2 0 1 0 1 1 2 0 1 1 1 0 0 2 1 2 2 0 0 2 1 2 2 0 0 1 0 1\n",
      " 0 2 1 0 1 2 1 2 1 0 2 1 0 2 2 0 0 2 0 0 0 1 1 0 2 2 2 0 0 2 2]\n"
     ]
    }
   ],
   "source": [
    "train_X, test_X, train_y, test_y = train_test_split(iris_X, iris_y, test_size=0.3)\n",
    "print(train_y)"
   ]
  },
  {
   "cell_type": "markdown",
   "id": "19b4556e",
   "metadata": {},
   "source": [
    "### 创建模型\n",
    "定义模块方式 KNeighborsClassifier() 用 fit 来训练 training data"
   ]
  },
  {
   "cell_type": "code",
   "execution_count": 12,
   "id": "2c1b8b8a",
   "metadata": {
    "ExecuteTime": {
     "end_time": "2022-01-28T14:01:52.950649Z",
     "start_time": "2022-01-28T14:01:52.900434Z"
    }
   },
   "outputs": [
    {
     "name": "stdout",
     "output_type": "stream",
     "text": [
      "[2 2 1 2 1 0 2 1 2 0 0 1 0 0 2 1 2 0 2 2 2 1 2 2 1 1 0 1 1 0 1 2 0 0 0 2 0\n",
      " 2 1 0 2 1 0 1 0]\n",
      "[2 2 1 1 1 0 2 1 2 0 0 1 0 0 1 1 2 0 2 2 2 1 2 2 1 1 0 2 1 0 1 2 0 0 0 2 0\n",
      " 2 1 0 2 1 0 1 0]\n"
     ]
    }
   ],
   "source": [
    "knn = KNeighborsClassifier()\n",
    "knn.fit(train_X, train_y)  # 训练模型\n",
    "print(knn.predict(test_X)) # 进行分类\n",
    "print(test_y)"
   ]
  },
  {
   "cell_type": "markdown",
   "id": "956e595c",
   "metadata": {
    "ExecuteTime": {
     "end_time": "2022-01-28T14:14:00.794174Z",
     "start_time": "2022-01-28T14:14:00.781890Z"
    }
   },
   "source": [
    "## regression\n",
    "分类是监督式学习，即每个数据对应一个 label"
   ]
  },
  {
   "cell_type": "markdown",
   "id": "820210ab",
   "metadata": {
    "ExecuteTime": {
     "end_time": "2022-01-28T14:15:37.306797Z",
     "start_time": "2022-01-28T14:15:37.273026Z"
    }
   },
   "source": [
    "### 导入模块\n",
    "sklearn 有一个数据集，包含很多数据。下面就导入datasets包，以Linear Regression"
   ]
  },
  {
   "cell_type": "code",
   "execution_count": 16,
   "id": "265ef86c",
   "metadata": {
    "ExecuteTime": {
     "end_time": "2022-01-28T14:19:00.294379Z",
     "start_time": "2022-01-28T14:18:58.872153Z"
    }
   },
   "outputs": [],
   "source": [
    "from sklearn import datasets\n",
    "from sklearn.linear_model import LinearRegression"
   ]
  },
  {
   "cell_type": "markdown",
   "id": "af508408",
   "metadata": {
    "ExecuteTime": {
     "end_time": "2022-01-28T14:19:19.926727Z",
     "start_time": "2022-01-28T14:19:19.914753Z"
    }
   },
   "source": [
    "### 训练模型\n",
    "用datasets.load_boston()加载数据，在赋值给X和y。"
   ]
  },
  {
   "cell_type": "code",
   "execution_count": 19,
   "id": "54205de9",
   "metadata": {
    "ExecuteTime": {
     "end_time": "2022-01-28T14:24:09.777880Z",
     "start_time": "2022-01-28T14:24:09.734930Z"
    }
   },
   "outputs": [],
   "source": [
    "loaded_data = datasets.load_boston()\n",
    "data_X = loaded_data.data\n",
    "data_y = loaded_data.target"
   ]
  },
  {
   "cell_type": "markdown",
   "id": "43748f2e",
   "metadata": {
    "ExecuteTime": {
     "end_time": "2022-01-28T14:24:47.401979Z",
     "start_time": "2022-01-28T14:24:47.349975Z"
    }
   },
   "source": [
    "定义模型及训练"
   ]
  },
  {
   "cell_type": "code",
   "execution_count": 23,
   "id": "2748eeeb",
   "metadata": {
    "ExecuteTime": {
     "end_time": "2022-01-28T14:36:01.210420Z",
     "start_time": "2022-01-28T14:36:01.180696Z"
    }
   },
   "outputs": [
    {
     "name": "stdout",
     "output_type": "stream",
     "text": [
      "[30.00384338 25.02556238 30.56759672 28.60703649]\n",
      "[24.  21.6 34.7 33.4]\n",
      "0.7406426641094095\n"
     ]
    }
   ],
   "source": [
    "model = LinearRegression()\n",
    "model.fit(data_X, data_y) # 训练\n",
    "print(model.predict(data_X[:4, :])) # 进行预测\n",
    "print(data_y[:4])\n",
    "print(model.score(data_X, data_y))"
   ]
  },
  {
   "cell_type": "markdown",
   "id": "10c3b106",
   "metadata": {},
   "source": [
    "## clustering\n",
    "聚类 是非监督式学习"
   ]
  },
  {
   "cell_type": "markdown",
   "id": "194ce681",
   "metadata": {
    "ExecuteTime": {
     "end_time": "2022-01-28T13:32:55.618222Z",
     "start_time": "2022-01-28T13:32:55.610681Z"
    }
   },
   "source": [
    "## dimensionality reduction\n",
    "降维，当数据集有很多很多属性的时候"
   ]
  }
 ],
 "metadata": {
  "kernelspec": {
   "display_name": "Python 3 (ipykernel)",
   "language": "python",
   "name": "python3"
  },
  "language_info": {
   "codemirror_mode": {
    "name": "ipython",
    "version": 3
   },
   "file_extension": ".py",
   "mimetype": "text/x-python",
   "name": "python",
   "nbconvert_exporter": "python",
   "pygments_lexer": "ipython3",
   "version": "3.9.7"
  },
  "toc": {
   "base_numbering": 1,
   "nav_menu": {},
   "number_sections": true,
   "sideBar": true,
   "skip_h1_title": false,
   "title_cell": "Table of Contents",
   "title_sidebar": "Contents",
   "toc_cell": false,
   "toc_position": {},
   "toc_section_display": true,
   "toc_window_display": false
  }
 },
 "nbformat": 4,
 "nbformat_minor": 5
}
